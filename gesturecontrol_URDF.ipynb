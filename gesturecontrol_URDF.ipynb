{
 "cells": [
  {
   "cell_type": "code",
   "execution_count": null,
   "metadata": {},
   "outputs": [],
   "source": [
    "import mediapipe as mp\n",
    "import numpy as np\n",
    "\n",
    "import cv2"
   ]
  },
  {
   "cell_type": "code",
   "execution_count": null,
   "metadata": {},
   "outputs": [],
   "source": [
    "mpHands = mp.solutions.hands\n",
    "hands = mpHands.Hands(\n",
    "    static_image_mode=False,\n",
    "    max_num_hands=1,\n",
    "    min_detection_confidence=0.7,\n",
    "    min_tracking_confidence=0.7,\n",
    "    model_complexity=1,\n",
    ")"
   ]
  },
  {
   "cell_type": "code",
   "execution_count": null,
   "metadata": {},
   "outputs": [],
   "source": [
    "def is_all_fingers_closed(landmarks):\n",
    "    # Fingers 4-8 (index to pinky) should be closed\n",
    "    return all(landmarks[i].y > landmarks[i - 2].y for i in [8, 12, 16, 20])\n",
    "\n",
    "def detect_left_to_right_movement(prev_x, current_x, threshold=20):\n",
    "    if prev_x is not None and (current_x - prev_x) > threshold:\n",
    "        return True\n",
    "    return False\n",
    "\n",
    "# Function to detect right-to-left movement\n",
    "def detect_right_to_left_movement(prev_x, current_x, threshold=20):\n",
    "    if prev_x is not None and (prev_x - current_x) > threshold:\n",
    "        return True\n",
    "    return False\n",
    "\n",
    "def move_bot(direction):\n",
    "    print(f\"Moving bot {direction}\")\n",
    "\n"
   ]
  },
  {
   "cell_type": "code",
   "execution_count": null,
   "metadata": {},
   "outputs": [],
   "source": [
    "def are_fingers_close(landmarks, image_width, threshold=30):\n",
    "    # Index finger tip (landmark 8) and middle finger tip (landmark 12)\n",
    "    index_finger_tip = landmarks[8]\n",
    "    middle_finger_tip = landmarks[12]\n",
    "    \n",
    "    # Calculate the Euclidean distance between the two landmarks in 2D\n",
    "    distance = np.sqrt((index_finger_tip.x - middle_finger_tip.x) ** 2 +\n",
    "                       (index_finger_tip.y - middle_finger_tip.y) ** 2)\n",
    "    \n",
    "    # Convert distance to pixel units by considering image dimensions\n",
    "    distance_in_pixels = distance * image_width\n",
    "    \n",
    "    return distance_in_pixels < threshold"
   ]
  },
  {
   "cell_type": "code",
   "execution_count": null,
   "metadata": {},
   "outputs": [],
   "source": [
    "def main():\n",
    "    cap = cv2.VideoCapture(0)\n",
    "    draw= mp.solutions.drawing_utils\n",
    "    try:\n",
    "        while cap.isOpened():\n",
    "            ret, frame = cap.read()\n",
    "            \n",
    "            if not ret:\n",
    "                break\n",
    "            \n",
    "            frame = cv2.flip(frame, 1)\n",
    "            image_height, image_width, _ = frame.shape\n",
    "            \n",
    "            rgb_frame = cv2.cvtColor(frame, cv2.COLOR_BGR2RGB)\n",
    "            \n",
    "            processed = hands.process(rgb_frame)\n",
    "            \n",
    "            if processed.multi_hand_landmarks:\n",
    "                hand_landmarks = processed.multi_hand_landmarks[0]\n",
    "                draw.draw_landmarks(frame, hand_landmarks, mpHands.HAND_CONNECTIONS)\n",
    "                \n",
    "                if are_fingers_close(hand_landmarks.landmark, image_width) and not is_all_fingers_closed(landmarks):\n",
    "                    index_finger_tip = hand_landmarks.landmark[8]\n",
    "                    current_x, current_y = int(index_finger_tip.x * image_width), int(index_finger_tip.y * image_height)\n",
    "                    \n",
    "                    if current_x < image_width // 2:\n",
    "                        cv2.putText(frame, 'Move Left', (50, 50), cv2.FONT_HERSHEY_SIMPLEX, 1, (255, 0, 0), 2, cv2.LINE_AA)\n",
    "                        move_bot(\"left\")\n",
    "                    else:\n",
    "                        cv2.putText(frame, 'Move Right', (50, 50), cv2.FONT_HERSHEY_SIMPLEX, 1, (0, 255, 0), 2, cv2.LINE_AA)\n",
    "                        move_bot(\"right\")\n",
    "                landmarks = hand_landmarks.landmark\n",
    "                hand_center_x = int(landmarks[0].x * image_width)  # Assume hand center is roughly at landmark[0]\n",
    "                    \n",
    "                if is_all_fingers_closed(landmarks):\n",
    "                        if hand_center_x < image_width // 2:\n",
    "                            # All fingers closed on left hand\n",
    "                            move_bot(\"backward\")\n",
    "                            cv2.putText(frame, 'Moving Backward', (50, 50), cv2.FONT_HERSHEY_SIMPLEX, 1, (0, 0, 255), 2, cv2.LINE_AA)\n",
    "                        else:\n",
    "                            # All fingers closed on right hand\n",
    "                            move_bot(\"forward\")\n",
    "                            cv2.putText(frame, 'Moving Forward', (50, 100), cv2.FONT_HERSHEY_SIMPLEX, 1, (0, 255, 0), 2, cv2.LINE_AA)\n",
    "\n",
    "\n",
    "            cv2.imshow('Frame', frame)\n",
    "            if cv2.waitKey(1) & 0xFF == ord('q'):\n",
    "                break\n",
    "    finally:\n",
    "        cap.release()\n",
    "        cv2.destroyAllWindows()"
   ]
  },
  {
   "cell_type": "code",
   "execution_count": null,
   "metadata": {},
   "outputs": [],
   "source": [
    "main()"
   ]
  },
  {
   "cell_type": "code",
   "execution_count": null,
   "metadata": {},
   "outputs": [],
   "source": []
  }
 ],
 "metadata": {
  "kernelspec": {
   "display_name": "Python 3",
   "language": "python",
   "name": "python3"
  },
  "language_info": {
   "codemirror_mode": {
    "name": "ipython",
    "version": 3
   },
   "file_extension": ".py",
   "mimetype": "text/x-python",
   "name": "python",
   "nbconvert_exporter": "python",
   "pygments_lexer": "ipython3",
   "version": "3.12.4"
  }
 },
 "nbformat": 4,
 "nbformat_minor": 2
}
